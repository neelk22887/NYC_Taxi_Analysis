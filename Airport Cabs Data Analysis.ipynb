{
 "cells": [
  {
   "cell_type": "code",
   "execution_count": 4,
   "id": "41784b01",
   "metadata": {},
   "outputs": [],
   "source": [
    "import numpy as np"
   ]
  },
  {
   "cell_type": "code",
   "execution_count": 5,
   "id": "897af19b",
   "metadata": {},
   "outputs": [
    {
     "data": {
      "text/plain": [
       "array([[2.016e+03, 1.000e+00, 1.000e+00, ..., 1.165e+01, 6.999e+01,\n",
       "        1.000e+00],\n",
       "       [2.016e+03, 1.000e+00, 1.000e+00, ..., 8.000e+00, 5.430e+01,\n",
       "        1.000e+00],\n",
       "       [2.016e+03, 1.000e+00, 1.000e+00, ..., 0.000e+00, 3.780e+01,\n",
       "        2.000e+00],\n",
       "       ...,\n",
       "       [2.016e+03, 6.000e+00, 3.000e+01, ..., 5.000e+00, 6.334e+01,\n",
       "        1.000e+00],\n",
       "       [2.016e+03, 6.000e+00, 3.000e+01, ..., 8.950e+00, 4.475e+01,\n",
       "        1.000e+00],\n",
       "       [2.016e+03, 6.000e+00, 3.000e+01, ..., 0.000e+00, 5.484e+01,\n",
       "        2.000e+00]])"
      ]
     },
     "execution_count": 5,
     "metadata": {},
     "output_type": "execute_result"
    }
   ],
   "source": [
    "taxi = np.loadtxt('C:\\\\Users\\\\DELL\\\\Downloads\\\\nyc_taxis.csv', delimiter=',', skiprows=1)\n",
    "taxi"
   ]
  },
  {
   "cell_type": "markdown",
   "id": "67acb0cc",
   "metadata": {},
   "source": [
    "# What is the mean speed of the cab rides?"
   ]
  },
  {
   "cell_type": "code",
   "execution_count": 7,
   "id": "1ed9d9f7",
   "metadata": {},
   "outputs": [],
   "source": [
    "speed = taxi[:, 7] /(taxi[:, 8]/3600)"
   ]
  },
  {
   "cell_type": "code",
   "execution_count": 8,
   "id": "024a2a5d",
   "metadata": {},
   "outputs": [
    {
     "data": {
      "text/plain": [
       "array([37.11340206, 38.58157895, 31.27222982, ..., 22.29907867,\n",
       "       42.41551247, 36.90473407])"
      ]
     },
     "execution_count": 8,
     "metadata": {},
     "output_type": "execute_result"
    }
   ],
   "source": [
    "speed"
   ]
  },
  {
   "cell_type": "code",
   "execution_count": 9,
   "id": "2a883244",
   "metadata": {},
   "outputs": [],
   "source": [
    "mean_speed = speed.mean()"
   ]
  },
  {
   "cell_type": "code",
   "execution_count": 10,
   "id": "ace2aaeb",
   "metadata": {},
   "outputs": [
    {
     "name": "stdout",
     "output_type": "stream",
     "text": [
      "32.24258580925573\n"
     ]
    }
   ],
   "source": [
    "print(mean_speed)"
   ]
  },
  {
   "cell_type": "code",
   "execution_count": 11,
   "id": "8f7465dc",
   "metadata": {},
   "outputs": [
    {
     "name": "stdout",
     "output_type": "stream",
     "text": [
      "32.24258580925573\n"
     ]
    }
   ],
   "source": [
    "mean_speed = np.mean(speed)\n",
    "print(mean_speed)"
   ]
  },
  {
   "cell_type": "markdown",
   "id": "77845340",
   "metadata": {},
   "source": [
    "# Q2. Calculate number of rides taken in the month of february? \n",
    "# February is given by the 2 month columns"
   ]
  },
  {
   "cell_type": "code",
   "execution_count": 13,
   "id": "b4469d19",
   "metadata": {},
   "outputs": [],
   "source": [
    "rides_feb = taxi[taxi[:, 1] == 2, 1]"
   ]
  },
  {
   "cell_type": "code",
   "execution_count": 14,
   "id": "5dc5ecde",
   "metadata": {},
   "outputs": [
    {
     "data": {
      "text/plain": [
       "(13333,)"
      ]
     },
     "execution_count": 14,
     "metadata": {},
     "output_type": "execute_result"
    }
   ],
   "source": [
    "rides_feb.shape"
   ]
  },
  {
   "cell_type": "code",
   "execution_count": 15,
   "id": "fdaea773",
   "metadata": {},
   "outputs": [
    {
     "data": {
      "text/plain": [
       "13333"
      ]
     },
     "execution_count": 15,
     "metadata": {},
     "output_type": "execute_result"
    }
   ],
   "source": [
    "rides_feb.shape[0]"
   ]
  },
  {
   "cell_type": "markdown",
   "id": "6c6b1145",
   "metadata": {},
   "source": [
    "# Q3. Calculate the number of rides with a tip greater than $50?"
   ]
  },
  {
   "cell_type": "code",
   "execution_count": 19,
   "id": "6eb2bb98",
   "metadata": {},
   "outputs": [],
   "source": [
    "above_50_tip = taxi[taxi[:, -3] > 50, -3]"
   ]
  },
  {
   "cell_type": "code",
   "execution_count": 20,
   "id": "e5b35065",
   "metadata": {},
   "outputs": [
    {
     "data": {
      "text/plain": [
       "array([ 52.8 ,  60.  ,  59.34,  80.  ,  70.  ,  60.  ,  55.  ,  65.  ,\n",
       "        80.  ,  62.  , 100.  ,  58.  ,  62.  ,  75.7 ,  60.  ,  70.  ])"
      ]
     },
     "execution_count": 20,
     "metadata": {},
     "output_type": "execute_result"
    }
   ],
   "source": [
    "above_50_tip"
   ]
  },
  {
   "cell_type": "code",
   "execution_count": 21,
   "id": "818c6a75",
   "metadata": {},
   "outputs": [
    {
     "data": {
      "text/plain": [
       "16"
      ]
     },
     "execution_count": 21,
     "metadata": {},
     "output_type": "execute_result"
    }
   ],
   "source": [
    "above_50_tip.shape[0]"
   ]
  },
  {
   "cell_type": "markdown",
   "id": "1dde417d",
   "metadata": {},
   "source": [
    "# Q4. Calculate the number of rides where drop was JFK airport?"
   ]
  },
  {
   "cell_type": "code",
   "execution_count": 22,
   "id": "307a11ee",
   "metadata": {},
   "outputs": [],
   "source": [
    "JFK_rides = taxi[taxi[:, 6] == 2, 6]"
   ]
  },
  {
   "cell_type": "code",
   "execution_count": 23,
   "id": "e285d46c",
   "metadata": {},
   "outputs": [
    {
     "data": {
      "text/plain": [
       "(11832,)"
      ]
     },
     "execution_count": 23,
     "metadata": {},
     "output_type": "execute_result"
    }
   ],
   "source": [
    "JFK_rides.shape"
   ]
  },
  {
   "cell_type": "code",
   "execution_count": 24,
   "id": "83a951e6",
   "metadata": {},
   "outputs": [
    {
     "data": {
      "text/plain": [
       "11832"
      ]
     },
     "execution_count": 24,
     "metadata": {},
     "output_type": "execute_result"
    }
   ],
   "source": [
    "JFK_rides.shape[0]"
   ]
  },
  {
   "cell_type": "markdown",
   "id": "9103b6ca",
   "metadata": {},
   "source": [
    "# Exploratory Data Analysis EDA"
   ]
  },
  {
   "cell_type": "code",
   "execution_count": 25,
   "id": "a7ccbbca",
   "metadata": {},
   "outputs": [
    {
     "data": {
      "text/plain": [
       "(89560, 15)"
      ]
     },
     "execution_count": 25,
     "metadata": {},
     "output_type": "execute_result"
    }
   ],
   "source": [
    "taxi.shape"
   ]
  },
  {
   "cell_type": "code",
   "execution_count": 26,
   "id": "ae84f077",
   "metadata": {},
   "outputs": [
    {
     "data": {
      "text/plain": [
       "2"
      ]
     },
     "execution_count": 26,
     "metadata": {},
     "output_type": "execute_result"
    }
   ],
   "source": [
    "taxi.ndim"
   ]
  },
  {
   "cell_type": "code",
   "execution_count": 27,
   "id": "7ca7227f",
   "metadata": {},
   "outputs": [
    {
     "data": {
      "text/plain": [
       "1343400"
      ]
     },
     "execution_count": 27,
     "metadata": {},
     "output_type": "execute_result"
    }
   ],
   "source": [
    "taxi.size"
   ]
  },
  {
   "cell_type": "code",
   "execution_count": 28,
   "id": "dc516eeb",
   "metadata": {},
   "outputs": [
    {
     "data": {
      "text/plain": [
       "1343400"
      ]
     },
     "execution_count": 28,
     "metadata": {},
     "output_type": "execute_result"
    }
   ],
   "source": [
    "taxi.shape[0] * taxi.shape[1]"
   ]
  },
  {
   "cell_type": "markdown",
   "id": "84e91a63",
   "metadata": {},
   "source": [
    "# changing the datatypes of columns"
   ]
  },
  {
   "cell_type": "code",
   "execution_count": 30,
   "id": "fc13f999",
   "metadata": {},
   "outputs": [
    {
     "data": {
      "text/plain": [
       "array([[2016,    1,    1, ...,    0,    2,    4],\n",
       "       [2016,    1,    1, ...,    0,    2,    1],\n",
       "       [2016,    1,    1, ...,    0,    2,    6],\n",
       "       ...,\n",
       "       [2016,    6,   30, ...,    5,    2,    4],\n",
       "       [2016,    6,   30, ...,    5,    2,    6],\n",
       "       [2016,    6,   30, ...,    5,    2,    0]])"
      ]
     },
     "execution_count": 30,
     "metadata": {},
     "output_type": "execute_result"
    }
   ],
   "source": [
    "taxi[:, 0:7].astype('int')"
   ]
  },
  {
   "cell_type": "code",
   "execution_count": 31,
   "id": "000e25a0",
   "metadata": {},
   "outputs": [
    {
     "data": {
      "text/plain": [
       "array([[2.016e+03, 1.000e+00, 1.000e+00, ..., 1.165e+01, 6.999e+01,\n",
       "        1.000e+00],\n",
       "       [2.016e+03, 1.000e+00, 1.000e+00, ..., 8.000e+00, 5.430e+01,\n",
       "        1.000e+00],\n",
       "       [2.016e+03, 1.000e+00, 1.000e+00, ..., 0.000e+00, 3.780e+01,\n",
       "        2.000e+00],\n",
       "       ...,\n",
       "       [2.016e+03, 6.000e+00, 3.000e+01, ..., 5.000e+00, 6.334e+01,\n",
       "        1.000e+00],\n",
       "       [2.016e+03, 6.000e+00, 3.000e+01, ..., 8.950e+00, 4.475e+01,\n",
       "        1.000e+00],\n",
       "       [2.016e+03, 6.000e+00, 3.000e+01, ..., 0.000e+00, 5.484e+01,\n",
       "        2.000e+00]])"
      ]
     },
     "execution_count": 31,
     "metadata": {},
     "output_type": "execute_result"
    }
   ],
   "source": [
    "taxi"
   ]
  },
  {
   "cell_type": "markdown",
   "id": "fef5ff14",
   "metadata": {},
   "source": [
    "# Q Q2. Calculate number of rides taken in the month of february"
   ]
  },
  {
   "cell_type": "code",
   "execution_count": 6,
   "id": "133db902",
   "metadata": {},
   "outputs": [
    {
     "data": {
      "text/plain": [
       "array([False, False, False, ..., False, False, False])"
      ]
     },
     "execution_count": 6,
     "metadata": {},
     "output_type": "execute_result"
    }
   ],
   "source": [
    "taxi[:, 1] == 2"
   ]
  },
  {
   "cell_type": "code",
   "execution_count": 9,
   "id": "c193f58d",
   "metadata": {},
   "outputs": [
    {
     "data": {
      "text/plain": [
       "array([2., 2., 2., ..., 2., 2., 2.])"
      ]
     },
     "execution_count": 9,
     "metadata": {},
     "output_type": "execute_result"
    }
   ],
   "source": [
    "taxi[taxi[:, 1] == 2, 1]"
   ]
  },
  {
   "cell_type": "code",
   "execution_count": 13,
   "id": "0037f7da",
   "metadata": {},
   "outputs": [
    {
     "data": {
      "text/plain": [
       "array([2., 2., 2., ..., 2., 2., 2.])"
      ]
     },
     "execution_count": 13,
     "metadata": {},
     "output_type": "execute_result"
    }
   ],
   "source": [
    "taxi[taxi[:, 1] == 2, 1]"
   ]
  },
  {
   "cell_type": "code",
   "execution_count": null,
   "id": "21949715",
   "metadata": {},
   "outputs": [],
   "source": []
  }
 ],
 "metadata": {
  "kernelspec": {
   "display_name": "Python 3 (ipykernel)",
   "language": "python",
   "name": "python3"
  },
  "language_info": {
   "codemirror_mode": {
    "name": "ipython",
    "version": 3
   },
   "file_extension": ".py",
   "mimetype": "text/x-python",
   "name": "python",
   "nbconvert_exporter": "python",
   "pygments_lexer": "ipython3",
   "version": "3.11.2"
  }
 },
 "nbformat": 4,
 "nbformat_minor": 5
}
